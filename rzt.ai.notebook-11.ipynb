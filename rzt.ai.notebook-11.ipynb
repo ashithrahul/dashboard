{
 "cells": [
  {
   "cell_type": "markdown",
   "metadata": {"deletable": false},
   "source": [
    "## To make the libraries you have uploaded in the Library Manager available in this Notebook, run the command below to get started\n",
    "\n",
    "```run -i platform-libs/initialize.py```"
   ]
  },
  {
   "cell_type": "code",
   "execution_count": null,
   "metadata": {"deletable": false},
   "outputs": [],
   "source": [
    "run -i platform-libs/initialize.py"
   ]
  }
 ],
 "metadata": {
  "kernelspec": {
   "display_name": "Python 3",
   "language": "python",
   "name": "python3"
  },
  "language_info": {
   "codemirror_mode": {
    "name": "ipython",
    "version": 3
   },
   "file_extension": ".py",
   "mimetype": "text/x-python",
   "name": "python",
   "nbconvert_exporter": "python",
   "pygments_lexer": "ipython3",
   "version": "3.6.6"
  }
 },
 "nbformat": 4,
 "nbformat_minor": 2
}